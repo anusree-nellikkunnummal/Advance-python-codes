{
  "nbformat": 4,
  "nbformat_minor": 0,
  "metadata": {
    "colab": {
      "name": "function.ipynb",
      "provenance": [],
      "authorship_tag": "ABX9TyOiK9AQGmysN0AiGbeuut4S",
      "include_colab_link": true
    },
    "kernelspec": {
      "name": "python3",
      "display_name": "Python 3"
    },
    "language_info": {
      "name": "python"
    }
  },
  "cells": [
    {
      "cell_type": "markdown",
      "metadata": {
        "id": "view-in-github",
        "colab_type": "text"
      },
      "source": [
        "<a href=\"https://colab.research.google.com/github/anusree-nellikkunnummal/Advance-python-codes/blob/main/function.ipynb\" target=\"_parent\"><img src=\"https://colab.research.google.com/assets/colab-badge.svg\" alt=\"Open In Colab\"/></a>"
      ]
    },
    {
      "cell_type": "code",
      "execution_count": 1,
      "metadata": {
        "colab": {
          "base_uri": "https://localhost:8080/"
        },
        "id": "eaN2dHzilPtj",
        "outputId": "bbd7d671-cdb7-4d92-e7c7-41ca9c926e3f"
      },
      "outputs": [
        {
          "output_type": "stream",
          "name": "stdout",
          "text": [
            "Enter tour name: Jay\n",
            "Jay\n"
          ]
        }
      ],
      "source": [
        "def call():\n",
        "  a = input('Enter tour name: ')\n",
        "  print(a)\n",
        "\n",
        "call()"
      ]
    },
    {
      "cell_type": "code",
      "source": [
        "def name():\n",
        "  a = input('Enter your name: ')\n",
        "  return a\n",
        "\n",
        "name()"
      ],
      "metadata": {
        "colab": {
          "base_uri": "https://localhost:8080/",
          "height": 52
        },
        "id": "ld_4A82wl8xt",
        "outputId": "e70fba7d-f71e-42ba-da9c-ad3c5788dc32"
      },
      "execution_count": 5,
      "outputs": [
        {
          "name": "stdout",
          "output_type": "stream",
          "text": [
            "Enter your name: joe\n"
          ]
        },
        {
          "output_type": "execute_result",
          "data": {
            "text/plain": [
              "'joe'"
            ],
            "application/vnd.google.colaboratory.intrinsic+json": {
              "type": "string"
            }
          },
          "metadata": {},
          "execution_count": 5
        }
      ]
    },
    {
      "cell_type": "code",
      "source": [
        "def greet(a):\n",
        "  return 'Hello dear '+ a\n",
        "\n",
        "greet('good morning')"
      ],
      "metadata": {
        "colab": {
          "base_uri": "https://localhost:8080/",
          "height": 35
        },
        "id": "_XQ9hMv-mSVa",
        "outputId": "8c6237c4-b85a-4576-e669-a0473d00dba6"
      },
      "execution_count": 7,
      "outputs": [
        {
          "output_type": "execute_result",
          "data": {
            "text/plain": [
              "'Hello dear good morning'"
            ],
            "application/vnd.google.colaboratory.intrinsic+json": {
              "type": "string"
            }
          },
          "metadata": {},
          "execution_count": 7
        }
      ]
    },
    {
      "cell_type": "code",
      "source": [
        "# doc file\n",
        "def hold(s):\n",
        "  '''This gives double of any value'''\n",
        "  answer = s*2\n",
        "  return answer\n",
        "\n",
        "a = hold(5)\n",
        "print(a)\n",
        "print(hold.__doc__)\n"
      ],
      "metadata": {
        "colab": {
          "base_uri": "https://localhost:8080/"
        },
        "id": "o_Fwk6MRmxUv",
        "outputId": "ad0ed3bc-15c1-4340-8a55-4137a7bf932a"
      },
      "execution_count": 12,
      "outputs": [
        {
          "output_type": "stream",
          "name": "stdout",
          "text": [
            "10\n",
            "This gives double of any value\n"
          ]
        }
      ]
    },
    {
      "cell_type": "code",
      "source": [
        "def revert(k):\n",
        "  if k > 0:\n",
        "    return -k\n",
        "  elif k < 0:\n",
        "    return k\n",
        "  else:\n",
        "    return 'Enter a nonzero number please'\n",
        "\n",
        "revert(6)"
      ],
      "metadata": {
        "colab": {
          "base_uri": "https://localhost:8080/"
        },
        "id": "nWYOINOBnopZ",
        "outputId": "2b458c5e-5438-43c0-a056-05f00ed7065d"
      },
      "execution_count": 18,
      "outputs": [
        {
          "output_type": "execute_result",
          "data": {
            "text/plain": [
              "-6"
            ]
          },
          "metadata": {},
          "execution_count": 18
        }
      ]
    },
    {
      "cell_type": "code",
      "source": [
        "# local variable s = 6, global variable s = 10\n",
        "\n",
        "def val():\n",
        "  s = 6\n",
        "  print(s)\n",
        "\n",
        "s = 10\n",
        "print(s)\n"
      ],
      "metadata": {
        "colab": {
          "base_uri": "https://localhost:8080/"
        },
        "id": "TjoAtAtEoUV2",
        "outputId": "1aa1ac50-2dc1-436e-8677-7a1d4a2ae416"
      },
      "execution_count": 19,
      "outputs": [
        {
          "output_type": "stream",
          "name": "stdout",
          "text": [
            "10\n"
          ]
        }
      ]
    },
    {
      "cell_type": "code",
      "source": [
        "val()\n"
      ],
      "metadata": {
        "colab": {
          "base_uri": "https://localhost:8080/"
        },
        "id": "ARVE_PGQqj0W",
        "outputId": "853d3844-c8ef-4785-eb9b-be00be71d045"
      },
      "execution_count": 20,
      "outputs": [
        {
          "output_type": "stream",
          "name": "stdout",
          "text": [
            "6\n"
          ]
        }
      ]
    },
    {
      "cell_type": "code",
      "source": [
        "# changing global variable by accessing locally\n",
        "\n",
        "a = 11\n",
        "def change():\n",
        "  global a\n",
        "  a = 5\n",
        "  print(a) \n",
        "\n",
        "\n",
        "print(a) # before function call\n",
        "change() # calling function\n",
        "print(a) # global a value has changed after function calling\n"
      ],
      "metadata": {
        "colab": {
          "base_uri": "https://localhost:8080/"
        },
        "id": "GQuKeVdAqyt3",
        "outputId": "b4d26708-5987-4f7b-e728-06f58ff6e1cc"
      },
      "execution_count": 24,
      "outputs": [
        {
          "output_type": "stream",
          "name": "stdout",
          "text": [
            "11\n",
            "5\n",
            "5\n"
          ]
        }
      ]
    },
    {
      "cell_type": "code",
      "source": [
        "def val(a,b):\n",
        "  sum =  a+b\n",
        "  return sum\n",
        "\n",
        "val(1,2)"
      ],
      "metadata": {
        "colab": {
          "base_uri": "https://localhost:8080/"
        },
        "id": "0f31LcpwrKEe",
        "outputId": "40de7d8d-d85b-402e-d88d-f7e9dea5d4f5"
      },
      "execution_count": 25,
      "outputs": [
        {
          "output_type": "execute_result",
          "data": {
            "text/plain": [
              "3"
            ]
          },
          "metadata": {},
          "execution_count": 25
        }
      ]
    },
    {
      "cell_type": "code",
      "source": [
        "x = 5\n",
        "y = 10\n",
        "val(x,y)"
      ],
      "metadata": {
        "colab": {
          "base_uri": "https://localhost:8080/"
        },
        "id": "_VUAWKS9sko2",
        "outputId": "8a417390-451c-470e-a578-52ff37e5aedc"
      },
      "execution_count": 26,
      "outputs": [
        {
          "output_type": "execute_result",
          "data": {
            "text/plain": [
              "15"
            ]
          },
          "metadata": {},
          "execution_count": 26
        }
      ]
    },
    {
      "cell_type": "code",
      "source": [
        "# positional argument, must follow position\n",
        "def person(name, age):\n",
        "  print('Hello good morning ' + name)\n",
        "  remaining_life = 80 - age \n",
        "  print('hey {} your remaining life is {} years'.format(name, remaining_life))\n",
        "\n",
        "person('Karun', 32)"
      ],
      "metadata": {
        "colab": {
          "base_uri": "https://localhost:8080/"
        },
        "id": "E3-4drIFspeW",
        "outputId": "4b38a782-6a28-4586-a520-415f1ff3d9ae"
      },
      "execution_count": 31,
      "outputs": [
        {
          "output_type": "stream",
          "name": "stdout",
          "text": [
            "Hello good morning Karun\n",
            "hey Karun your remaining life is 48 years\n"
          ]
        }
      ]
    },
    {
      "cell_type": "code",
      "source": [
        "#keyword argument\n",
        "\n",
        "def employee(name, salary):\n",
        "  print('Employee name: ', name)\n",
        "  print('Your salary is: ', salary)\n",
        "  tax = salary*20/100 \n",
        "  print('tax to be paid: ', tax)\n",
        "\n",
        "employee(salary=100000, name= 'George')"
      ],
      "metadata": {
        "colab": {
          "base_uri": "https://localhost:8080/"
        },
        "id": "lS2Qwg5YuEwC",
        "outputId": "c4a5d92b-3554-4a6d-818b-5b1ca1f90c64"
      },
      "execution_count": 32,
      "outputs": [
        {
          "output_type": "stream",
          "name": "stdout",
          "text": [
            "Employee name:  George\n",
            "Your salary is:  100000\n",
            "tax to be paid:  20000.0\n"
          ]
        }
      ]
    },
    {
      "cell_type": "code",
      "source": [
        "employee('Gourav', salary=20000) "
      ],
      "metadata": {
        "colab": {
          "base_uri": "https://localhost:8080/"
        },
        "id": "yMVz3AhD0ERL",
        "outputId": "d6def8ed-c5ea-46a0-a56e-f446858a5cc7"
      },
      "execution_count": 34,
      "outputs": [
        {
          "output_type": "stream",
          "name": "stdout",
          "text": [
            "Employee name:  Gourav\n",
            "Your salary is:  20000\n",
            "tax to be paid:  4000.0\n"
          ]
        }
      ]
    },
    {
      "cell_type": "code",
      "source": [
        "employee(name='har', 300000) # keyword argument must follow positional argument"
      ],
      "metadata": {
        "colab": {
          "base_uri": "https://localhost:8080/",
          "height": 131
        },
        "id": "eNwZhAz-0PP-",
        "outputId": "2b8a96d0-8fc8-4a10-b842-48b02c1392a1"
      },
      "execution_count": 35,
      "outputs": [
        {
          "output_type": "error",
          "ename": "SyntaxError",
          "evalue": "ignored",
          "traceback": [
            "\u001b[0;36m  File \u001b[0;32m\"<ipython-input-35-f7c7d3101c14>\"\u001b[0;36m, line \u001b[0;32m1\u001b[0m\n\u001b[0;31m    employee(name='har', 300000)\u001b[0m\n\u001b[0m                        ^\u001b[0m\n\u001b[0;31mSyntaxError\u001b[0m\u001b[0;31m:\u001b[0m positional argument follows keyword argument\n"
          ]
        }
      ]
    },
    {
      "cell_type": "code",
      "source": [
        "def name(a=10, b=20): #default\n",
        "  return a*b\n",
        "\n",
        "name(30,b=50)"
      ],
      "metadata": {
        "colab": {
          "base_uri": "https://localhost:8080/"
        },
        "id": "atEUyheO027d",
        "outputId": "3b000e2f-df7d-41c5-f870-6285bb11905e"
      },
      "execution_count": 39,
      "outputs": [
        {
          "output_type": "execute_result",
          "data": {
            "text/plain": [
              "1500"
            ]
          },
          "metadata": {},
          "execution_count": 39
        }
      ]
    },
    {
      "cell_type": "code",
      "source": [
        "def call():\n",
        "  a = 10\n",
        "  b = 11\n",
        "  sum = a+b\n",
        "  return(sum)\n",
        "\n",
        "call()"
      ],
      "metadata": {
        "colab": {
          "base_uri": "https://localhost:8080/"
        },
        "id": "COqUyX161Qcm",
        "outputId": "cda94f1f-4828-4090-f9b5-219e474ac578"
      },
      "execution_count": 40,
      "outputs": [
        {
          "output_type": "execute_result",
          "data": {
            "text/plain": [
              "21"
            ]
          },
          "metadata": {},
          "execution_count": 40
        }
      ]
    },
    {
      "cell_type": "code",
      "source": [
        "#lambda\n",
        "c = lambda a: a*2\n",
        "c(5)"
      ],
      "metadata": {
        "colab": {
          "base_uri": "https://localhost:8080/"
        },
        "id": "2-5i_L792YPV",
        "outputId": "62fcb361-a491-405f-f4f2-9b8065537e64"
      },
      "execution_count": 42,
      "outputs": [
        {
          "output_type": "execute_result",
          "data": {
            "text/plain": [
              "10"
            ]
          },
          "metadata": {},
          "execution_count": 42
        }
      ]
    },
    {
      "cell_type": "code",
      "source": [
        "d = lambda s: s%10==0\n",
        "d(20)"
      ],
      "metadata": {
        "colab": {
          "base_uri": "https://localhost:8080/"
        },
        "id": "7OlYQ8EB23Te",
        "outputId": "ac1eae75-6f8f-4cc8-b3e1-74d575be10b0"
      },
      "execution_count": 44,
      "outputs": [
        {
          "output_type": "execute_result",
          "data": {
            "text/plain": [
              "True"
            ]
          },
          "metadata": {},
          "execution_count": 44
        }
      ]
    },
    {
      "cell_type": "code",
      "source": [
        "#recursion:\n",
        "def tri(n):\n",
        "  if(n > 0):\n",
        "    result = n+ tri(n - 1)\n",
        "    print(result)\n",
        "  else:\n",
        "    result = 0\n",
        "  return result\n",
        "\n",
        "print(\"\\n\\nRecursion Example Results\")\n",
        "tri(6)"
      ],
      "metadata": {
        "colab": {
          "base_uri": "https://localhost:8080/"
        },
        "id": "irS1L9df3Eo2",
        "outputId": "c98477a4-239b-420a-f718-19a5cf61c80e"
      },
      "execution_count": 2,
      "outputs": [
        {
          "output_type": "stream",
          "name": "stdout",
          "text": [
            "\n",
            "\n",
            "Recursion Example Results\n",
            "1\n",
            "3\n",
            "6\n",
            "10\n",
            "15\n",
            "21\n"
          ]
        },
        {
          "output_type": "execute_result",
          "data": {
            "text/plain": [
              "21"
            ]
          },
          "metadata": {},
          "execution_count": 2
        }
      ]
    },
    {
      "cell_type": "code",
      "source": [
        "def home(n):\n",
        "  if (n> 0):\n",
        "    c = n + home(n - 1)\n",
        "    print(c)\n",
        "  else:\n",
        "    c = n\n",
        "  return c\n",
        "\n",
        "home(10)"
      ],
      "metadata": {
        "colab": {
          "base_uri": "https://localhost:8080/"
        },
        "id": "3Ys-WyWsLPOz",
        "outputId": "1295479d-e732-4d58-dd8a-345b11961000"
      },
      "execution_count": 9,
      "outputs": [
        {
          "output_type": "stream",
          "name": "stdout",
          "text": [
            "1\n",
            "3\n",
            "6\n",
            "10\n",
            "15\n",
            "21\n",
            "28\n",
            "36\n",
            "45\n",
            "55\n"
          ]
        },
        {
          "output_type": "execute_result",
          "data": {
            "text/plain": [
              "55"
            ]
          },
          "metadata": {},
          "execution_count": 9
        }
      ]
    },
    {
      "cell_type": "code",
      "source": [
        ""
      ],
      "metadata": {
        "id": "xiyVVM2OPrkC"
      },
      "execution_count": null,
      "outputs": []
    }
  ]
}