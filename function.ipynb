{
  "nbformat": 4,
  "nbformat_minor": 0,
  "metadata": {
    "colab": {
      "name": "function.ipynb",
      "provenance": [],
      "authorship_tag": "ABX9TyPGgZhGdAkOHkJYaT3qPhEb",
      "include_colab_link": true
    },
    "kernelspec": {
      "name": "python3",
      "display_name": "Python 3"
    },
    "language_info": {
      "name": "python"
    }
  },
  "cells": [
    {
      "cell_type": "markdown",
      "metadata": {
        "id": "view-in-github",
        "colab_type": "text"
      },
      "source": [
        "<a href=\"https://colab.research.google.com/github/anusree-nellikkunnummal/Advance-python-codes/blob/main/function.ipynb\" target=\"_parent\"><img src=\"https://colab.research.google.com/assets/colab-badge.svg\" alt=\"Open In Colab\"/></a>"
      ]
    },
    {
      "cell_type": "code",
      "execution_count": null,
      "metadata": {
        "colab": {
          "base_uri": "https://localhost:8080/"
        },
        "id": "3lz0aEVeBdKX",
        "outputId": "65d7c8db-9c28-4684-8984-d69cdeaedcd2"
      },
      "outputs": [
        {
          "output_type": "stream",
          "name": "stdout",
          "text": [
            "My name is anu\n"
          ]
        }
      ],
      "source": [
        "# A function is a block of code which only runs when it is called.\n",
        "# You can pass data, known as parameters, into a function.\n",
        "# A function can return data as a result\n",
        "# Python a function is defined using the def keyword:\n",
        "def name(): # function head\n",
        "  print('My name is anu')\n",
        "name() # To call a function, use the function name followed by parenthesis"
      ]
    },
    {
      "cell_type": "code",
      "source": [
        "# Information can be passed into functions as arguments. 1form of giving arguments:\n",
        "def add(a,b):\n",
        "  c = a+b\n",
        "  return c\n",
        "\n",
        "add(6,7)\n"
      ],
      "metadata": {
        "colab": {
          "base_uri": "https://localhost:8080/"
        },
        "id": "Duq8lv50D-v6",
        "outputId": "62c4a625-464c-4f6c-f8b6-3aef0a548eb5"
      },
      "execution_count": null,
      "outputs": [
        {
          "output_type": "execute_result",
          "data": {
            "text/plain": [
              "13"
            ]
          },
          "metadata": {},
          "execution_count": 2
        }
      ]
    },
    {
      "cell_type": "code",
      "source": [
        "# 2nd form of giving argument:\n",
        "def sub(a,b):\n",
        "  c = a-b\n",
        "  return c\n",
        "\n",
        "x = 6\n",
        "y = 12\n",
        "\n",
        "sub(x,y)"
      ],
      "metadata": {
        "colab": {
          "base_uri": "https://localhost:8080/"
        },
        "id": "hsMVyGvaEndr",
        "outputId": "7456b778-50d6-478d-d297-32df657d38c8"
      },
      "execution_count": null,
      "outputs": [
        {
          "output_type": "execute_result",
          "data": {
            "text/plain": [
              "-6"
            ]
          },
          "metadata": {},
          "execution_count": 3
        }
      ]
    },
    {
      "cell_type": "code",
      "source": [
        "# local and global scope \n",
        "# Local Scope. Local scope variables can only be accessed within its block.\n",
        "# Global Scope. The variables that are declared in the global scope can be accessed from anywhere in the program.\n",
        "\n",
        "#local scope\n",
        "def main():\n",
        "  a = 16 # local variable\n",
        "  print(a)\n",
        "\n",
        "main()"
      ],
      "metadata": {
        "colab": {
          "base_uri": "https://localhost:8080/"
        },
        "id": "BtrEUZJuFIzP",
        "outputId": "f4d9ee7a-0bd0-41fd-c94d-75f95c0bfac7"
      },
      "execution_count": null,
      "outputs": [
        {
          "output_type": "stream",
          "name": "stdout",
          "text": [
            "16\n"
          ]
        }
      ]
    },
    {
      "cell_type": "code",
      "source": [
        "#global scope:\n",
        "def main():\n",
        "  a = 16\n",
        "  print(a)\n",
        "\n",
        "a = 10\n",
        "print(a)"
      ],
      "metadata": {
        "colab": {
          "base_uri": "https://localhost:8080/"
        },
        "id": "KGctG-ZHHBf2",
        "outputId": "ccd66524-d63e-4b1c-fd55-c447b951427f"
      },
      "execution_count": null,
      "outputs": [
        {
          "output_type": "stream",
          "name": "stdout",
          "text": [
            "10\n"
          ]
        }
      ]
    },
    {
      "cell_type": "code",
      "source": [
        "# To change the value of a global variable inside a function, refer to the variable by using the global keyword:\n",
        "\n",
        "a = 11\n",
        "\n",
        "\n",
        "def main():\n",
        "  global a\n",
        "  a = 6\n",
        "  return a\n",
        "\n",
        "\n",
        "main()\n",
        "print(a)"
      ],
      "metadata": {
        "colab": {
          "base_uri": "https://localhost:8080/"
        },
        "id": "032EgqE8HNyX",
        "outputId": "eec16840-15f5-4ffc-e79d-fab7ff7cbdde"
      },
      "execution_count": null,
      "outputs": [
        {
          "output_type": "stream",
          "name": "stdout",
          "text": [
            "6\n"
          ]
        }
      ]
    },
    {
      "cell_type": "code",
      "source": [
        ""
      ],
      "metadata": {
        "colab": {
          "base_uri": "https://localhost:8080/"
        },
        "id": "u2NSsOK3IilZ",
        "outputId": "947484a1-49ce-4e46-ee25-132f7e5eef18"
      },
      "execution_count": null,
      "outputs": [
        {
          "output_type": "stream",
          "name": "stdout",
          "text": [
            "6\n"
          ]
        }
      ]
    },
    {
      "cell_type": "code",
      "source": [
        "#  accessing global scope variable inside function :\n",
        "a = 12\n",
        "\n",
        "\n",
        "def main():\n",
        "  print(a)\n",
        "\n",
        "def calc():\n",
        "  print(a)\n",
        "\n",
        "main()\n",
        "calc()"
      ],
      "metadata": {
        "colab": {
          "base_uri": "https://localhost:8080/"
        },
        "id": "tmMhuc6eJDo4",
        "outputId": "3d1472e1-faa4-4df3-bb28-475dbe900645"
      },
      "execution_count": null,
      "outputs": [
        {
          "output_type": "stream",
          "name": "stdout",
          "text": [
            "12\n",
            "12\n"
          ]
        }
      ]
    },
    {
      "cell_type": "code",
      "source": [
        "# positional argument must possess an order:\n",
        " \n",
        "def info(name, age):\n",
        "   print(name, age)\n",
        "\n",
        "\n",
        "info('anu', 30) \n",
        "\n",
        "'''A keyword argument is an argument passed to a function or method which is preceded by a keyword and an equals sign. The general form is:\n",
        "function(keyword=value)'''\n",
        "\n",
        "info(name='jay', age=30)\n",
        "info(age = 3, name = 'joe')\n",
        "info('john', age=13)\n"
      ],
      "metadata": {
        "colab": {
          "base_uri": "https://localhost:8080/"
        },
        "id": "1xBA5WZNQCWr",
        "outputId": "d150323c-4ced-48a3-d177-c5040ff772c3"
      },
      "execution_count": null,
      "outputs": [
        {
          "output_type": "stream",
          "name": "stdout",
          "text": [
            "anu 30\n",
            "jay 30\n",
            "joe 3\n",
            "john 13\n"
          ]
        }
      ]
    },
    {
      "cell_type": "code",
      "source": [
        "info(age=30, 'guna') # can any number of keyword arguments after a positional argument\n",
        "\n"
      ],
      "metadata": {
        "colab": {
          "base_uri": "https://localhost:8080/",
          "height": 200
        },
        "id": "wheQl_fIK3Jo",
        "outputId": "ec7c275f-b91f-427f-c920-75e2a45ca6f0"
      },
      "execution_count": null,
      "outputs": [
        {
          "output_type": "error",
          "ename": "TypeError",
          "evalue": "ignored",
          "traceback": [
            "\u001b[0;31m---------------------------------------------------------------------------\u001b[0m",
            "\u001b[0;31mTypeError\u001b[0m                                 Traceback (most recent call last)",
            "\u001b[0;32m<ipython-input-32-4d9a1de9494a>\u001b[0m in \u001b[0;36m<module>\u001b[0;34m()\u001b[0m\n\u001b[1;32m      1\u001b[0m \u001b[0;31m#info(age=30, 'guna') # can any number of keyword arguments after a positional argument\u001b[0m\u001b[0;34m\u001b[0m\u001b[0;34m\u001b[0m\u001b[0;34m\u001b[0m\u001b[0m\n\u001b[1;32m      2\u001b[0m \u001b[0;34m\u001b[0m\u001b[0m\n\u001b[0;32m----> 3\u001b[0;31m \u001b[0minfo\u001b[0m\u001b[0;34m(\u001b[0m\u001b[0;36m30\u001b[0m \u001b[0;34m,\u001b[0m \u001b[0mname\u001b[0m\u001b[0;34m=\u001b[0m\u001b[0;36m30\u001b[0m\u001b[0;34m)\u001b[0m\u001b[0;34m\u001b[0m\u001b[0;34m\u001b[0m\u001b[0m\n\u001b[0m",
            "\u001b[0;31mTypeError\u001b[0m: info() got multiple values for argument 'name'"
          ]
        }
      ]
    },
    {
      "cell_type": "code",
      "source": [
        "#salary set to 10000 default\n",
        "\n",
        "def employee(name, salary=10000):\n",
        "  print(name, salary)\n",
        "\n",
        "employee('sam', 20000)\n",
        "employee('vinu')\n",
        "   \n"
      ],
      "metadata": {
        "colab": {
          "base_uri": "https://localhost:8080/"
        },
        "id": "aRZ4Uum2XRYW",
        "outputId": "2c9506ab-8e9d-4ca1-a639-6dc26de484cc"
      },
      "execution_count": null,
      "outputs": [
        {
          "output_type": "stream",
          "name": "stdout",
          "text": [
            "sam 20000\n",
            "vinu 10000\n"
          ]
        }
      ]
    },
    {
      "cell_type": "code",
      "source": [
        "# lambda - Anonymous function - just like any normal python function, except that it has no name when defining it, and it is contained in one line of code. \n",
        "c = lambda a,b: a+b\n",
        "c(1,2)"
      ],
      "metadata": {
        "colab": {
          "base_uri": "https://localhost:8080/"
        },
        "id": "WpjJVDpQszYR",
        "outputId": "0d496e11-58e2-45a0-f6c5-5b0f1a221787"
      },
      "execution_count": null,
      "outputs": [
        {
          "output_type": "execute_result",
          "data": {
            "text/plain": [
              "3"
            ]
          },
          "metadata": {},
          "execution_count": 39
        }
      ]
    },
    {
      "cell_type": "code",
      "source": [
        "k = lambda a: a*2\n",
        "print(k(6))"
      ],
      "metadata": {
        "colab": {
          "base_uri": "https://localhost:8080/"
        },
        "id": "auoUCE-wtg6B",
        "outputId": "92643335-1332-4edd-a3c5-48746c0ddcb6"
      },
      "execution_count": null,
      "outputs": [
        {
          "output_type": "stream",
          "name": "stdout",
          "text": [
            "12\n"
          ]
        }
      ]
    },
    {
      "cell_type": "code",
      "source": [
        "name = lambda a: 'The '+ a\n",
        "name('tree')"
      ],
      "metadata": {
        "colab": {
          "base_uri": "https://localhost:8080/",
          "height": 35
        },
        "id": "45qs_ydlu8Tw",
        "outputId": "d322b566-6db7-4c1b-c905-00c3dd1600ad"
      },
      "execution_count": null,
      "outputs": [
        {
          "output_type": "execute_result",
          "data": {
            "text/plain": [
              "'The tree'"
            ],
            "application/vnd.google.colaboratory.intrinsic+json": {
              "type": "string"
            }
          },
          "metadata": {},
          "execution_count": 37
        }
      ]
    },
    {
      "cell_type": "code",
      "source": [
        "def give(n):\n",
        "  return lambda a: a*n\n",
        "\n",
        "result = give(6)\n",
        "result(2)\n"
      ],
      "metadata": {
        "colab": {
          "base_uri": "https://localhost:8080/"
        },
        "id": "rMwX3oBfvhiv",
        "outputId": "904a3241-dae5-45b6-fcd2-4ed262d858e7"
      },
      "execution_count": null,
      "outputs": [
        {
          "output_type": "execute_result",
          "data": {
            "text/plain": [
              "12"
            ]
          },
          "metadata": {},
          "execution_count": 45
        }
      ]
    },
    {
      "cell_type": "code",
      "source": [
        "def give(n):\n",
        "  c = lambda a:a+n\n",
        "  return c(5)\n",
        "\n",
        "give(6)"
      ],
      "metadata": {
        "colab": {
          "base_uri": "https://localhost:8080/"
        },
        "id": "Fuy_d9IEwFUw",
        "outputId": "4bf1be96-181d-41fa-f563-c42bb0b62e50"
      },
      "execution_count": null,
      "outputs": [
        {
          "output_type": "execute_result",
          "data": {
            "text/plain": [
              "11"
            ]
          },
          "metadata": {},
          "execution_count": 46
        }
      ]
    },
    {
      "cell_type": "code",
      "source": [
        "def fun(a):\n",
        "  return lambda n:n*a\n",
        "\n",
        "c = fun(5)\n",
        "c(6)"
      ],
      "metadata": {
        "id": "VqBDP9X301WV",
        "colab": {
          "base_uri": "https://localhost:8080/"
        },
        "outputId": "3cdd0df1-d7dc-436b-d3a4-02db89ed47c6"
      },
      "execution_count": 2,
      "outputs": [
        {
          "output_type": "execute_result",
          "data": {
            "text/plain": [
              "30"
            ]
          },
          "metadata": {},
          "execution_count": 2
        }
      ]
    },
    {
      "cell_type": "code",
      "source": [
        "# a defined function can call itself.\n",
        "\n",
        "def fact(n):\n",
        "  if n == 0:\n",
        "    return 1\n",
        "  else:\n",
        "    return n*fact(n-1)\n",
        "\n",
        "fact(5)\n"
      ],
      "metadata": {
        "colab": {
          "base_uri": "https://localhost:8080/"
        },
        "id": "bu76RW5WXxPg",
        "outputId": "c1d3579a-4993-48fe-b0fd-365f915c7b2f"
      },
      "execution_count": 3,
      "outputs": [
        {
          "output_type": "execute_result",
          "data": {
            "text/plain": [
              "120"
            ]
          },
          "metadata": {},
          "execution_count": 3
        }
      ]
    },
    {
      "cell_type": "code",
      "source": [
        "def calc(a):\n",
        "  if a == 1:\n",
        "    return 1\n",
        "  else:\n",
        "    return a+calc(a-1)\n",
        "\n",
        "calc(5)"
      ],
      "metadata": {
        "colab": {
          "base_uri": "https://localhost:8080/"
        },
        "id": "6r47ZvZPhm59",
        "outputId": "c893d56b-4bea-4b2a-854c-5f568255c48c"
      },
      "execution_count": 6,
      "outputs": [
        {
          "output_type": "execute_result",
          "data": {
            "text/plain": [
              "15"
            ]
          },
          "metadata": {},
          "execution_count": 6
        }
      ]
    },
    {
      "cell_type": "code",
      "source": [
        " "
      ],
      "metadata": {
        "id": "o4o1n8zxj4Nu"
      },
      "execution_count": null,
      "outputs": []
    }
  ]
}