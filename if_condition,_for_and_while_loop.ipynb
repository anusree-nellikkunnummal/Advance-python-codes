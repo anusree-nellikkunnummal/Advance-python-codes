{
  "nbformat": 4,
  "nbformat_minor": 0,
  "metadata": {
    "colab": {
      "name": "if condition, for and while loop.ipynb",
      "provenance": [],
      "authorship_tag": "ABX9TyOASlU6XbVkkMkGmr/HwI60",
      "include_colab_link": true
    },
    "kernelspec": {
      "name": "python3",
      "display_name": "Python 3"
    },
    "language_info": {
      "name": "python"
    }
  },
  "cells": [
    {
      "cell_type": "markdown",
      "metadata": {
        "id": "view-in-github",
        "colab_type": "text"
      },
      "source": [
        "<a href=\"https://colab.research.google.com/github/anusree-nellikkunnummal/Advance-python-codes/blob/main/if_condition%2C_for_and_while_loop.ipynb\" target=\"_parent\"><img src=\"https://colab.research.google.com/assets/colab-badge.svg\" alt=\"Open In Colab\"/></a>"
      ]
    },
    {
      "cell_type": "code",
      "execution_count": 3,
      "metadata": {
        "colab": {
          "base_uri": "https://localhost:8080/"
        },
        "id": "zq3YiVBZBgLk",
        "outputId": "02a8bfe4-7036-45fd-eb01-803b84f8ceeb"
      },
      "outputs": [
        {
          "output_type": "stream",
          "name": "stdout",
          "text": [
            "Enter a number: 42\n",
            "The number is not a multiple of 5\n"
          ]
        }
      ],
      "source": [
        "# if condition\n",
        "# pgm to find a num is multiple of 5\n",
        "num = int(input('Enter a number: '))\n",
        "if num%5 == 0:\n",
        "  print('The number entered is a multiple of 5')\n",
        "else:\n",
        "  print('The number is not a multiple of 5')\n"
      ]
    },
    {
      "cell_type": "code",
      "source": [
        "s = input('Enter name of the student: ')\n",
        "m1 = int(input('Enter mark for Science: '))\n",
        "m2 = int(input('Enter mark for Social Science: '))\n",
        "m3 = int(input('Enter mark for Maths: '))\n",
        "m4 = int(input('Enter mark for Chemistry: '))\n",
        "m5 = int(input('Enter mark for Physics: '))\n",
        "\n",
        "avg = ((m1+m2+m3+m4+m5)/5)*100\n",
        "if avg > 90:\n",
        "  print('your score is A+')\n",
        "elif avg > 80 and avg <= 90:\n",
        "  print('your score is A')\n",
        "elif avg > 70 and avg <= 80:\n",
        "  print('your score is B')\n",
        "elif avg > 60 and avg <= 70:\n",
        "  print('your score is c')\n",
        "elif avg > 50 and avg <= 60:\n",
        "  print('your score is D')\n",
        "else:\n",
        "  print('You failed')\n"
      ],
      "metadata": {
        "colab": {
          "base_uri": "https://localhost:8080/"
        },
        "id": "dEsi8-4VCG3z",
        "outputId": "c9a2d1b9-18ec-42e8-fe43-b9263979ee52"
      },
      "execution_count": 4,
      "outputs": [
        {
          "output_type": "stream",
          "name": "stdout",
          "text": [
            "Enter name of the student: Gourav\n",
            "Enter mark for Science: 49\n",
            "Enter mark for Social Science: 70\n",
            "Enter mark for Maths: 50\n",
            "Enter mark for Chemistry: 67\n",
            "Enter mark for Physics: 40\n",
            "your score is A+\n"
          ]
        }
      ]
    },
    {
      "cell_type": "code",
      "source": [
        "# age of a person to vote is 18\n",
        "# age of a person to contwst is 25 write a program, show who is allowed to vote and contest and both:\n",
        "\n",
        "name = input('Enter your name: ')\n",
        "age = int(input('Enter your age: '))\n",
        "if age<18:\n",
        "  print('Hi {}, Sorry you can neither vote nor contest in election!!'.format(name))\n",
        "elif 25>age>18:\n",
        "  print('Hi {}, you can poll a vote but sorry can not contest in the election'.format(name))\n",
        "else:\n",
        "  print('Hi {}, You can poll a vote and contest in the election!'.format(name))\n"
      ],
      "metadata": {
        "colab": {
          "base_uri": "https://localhost:8080/"
        },
        "id": "puJGUj1ZIIPP",
        "outputId": "fe02a17c-89e9-4bb6-abad-676f1bcf4546"
      },
      "execution_count": 9,
      "outputs": [
        {
          "output_type": "stream",
          "name": "stdout",
          "text": [
            "Enter your name: gokul\n",
            "Enter your age: 21\n",
            "Hi gokul, you can poll a vote but sorry can not contest in the election\n"
          ]
        }
      ]
    },
    {
      "cell_type": "code",
      "source": [
        "# A for loop is used for iterating over a sequence (that is either a list, a tuple, a dictionary, a set, or a string).\n",
        "\n",
        "s = 'Hi am here come back'\n",
        "for i in s:\n",
        "  print(i)"
      ],
      "metadata": {
        "colab": {
          "base_uri": "https://localhost:8080/"
        },
        "id": "ne4h_ArgJqb0",
        "outputId": "4700c8fd-4682-4cc9-dd88-ef4cc4f0005a"
      },
      "execution_count": 13,
      "outputs": [
        {
          "output_type": "stream",
          "name": "stdout",
          "text": [
            "H\n",
            "i\n",
            " \n",
            "a\n",
            "m\n",
            " \n",
            "h\n",
            "e\n",
            "r\n",
            "e\n",
            " \n",
            "c\n",
            "o\n",
            "m\n",
            "e\n",
            " \n",
            "b\n",
            "a\n",
            "c\n",
            "k\n"
          ]
        }
      ]
    },
    {
      "cell_type": "code",
      "source": [
        "for i in range(10):\n",
        "  print(i)\n",
        "else: # will be ideal fi using an if condition inside for\n",
        "  print('My idea was wrong')"
      ],
      "metadata": {
        "colab": {
          "base_uri": "https://localhost:8080/"
        },
        "id": "owHWIg8oLScf",
        "outputId": "59ec31c6-4514-4d6b-9077-745b2177e570"
      },
      "execution_count": 15,
      "outputs": [
        {
          "output_type": "stream",
          "name": "stdout",
          "text": [
            "0\n",
            "1\n",
            "2\n",
            "3\n",
            "4\n",
            "5\n",
            "6\n",
            "7\n",
            "8\n",
            "9\n",
            "My idea was wrong\n"
          ]
        }
      ]
    },
    {
      "cell_type": "code",
      "source": [
        "# for else\n",
        "li = [1,2,5]\n",
        "for i in li:\n",
        "  if i%2 == 0:\n",
        "    print('{}, Its an even number'.format(i))\n",
        "    break\n",
        "else:\n",
        "  print('list does not contains an even number')"
      ],
      "metadata": {
        "colab": {
          "base_uri": "https://localhost:8080/"
        },
        "id": "OcNrAe9PMFDO",
        "outputId": "995b3908-a2f2-4a72-9ba2-57fa1fcdb12f"
      },
      "execution_count": 23,
      "outputs": [
        {
          "output_type": "stream",
          "name": "stdout",
          "text": [
            "2, Its an even number\n",
            "list does not contains an even number\n"
          ]
        }
      ]
    },
    {
      "cell_type": "code",
      "source": [
        "i = 0\n",
        "while i<6:\n",
        "  print(i)\n",
        "  i+=1\n"
      ],
      "metadata": {
        "colab": {
          "base_uri": "https://localhost:8080/"
        },
        "id": "GmKoj7vuZ2sl",
        "outputId": "cd82aaec-28cb-49ce-fe15-054ccb373b73"
      },
      "execution_count": 27,
      "outputs": [
        {
          "output_type": "stream",
          "name": "stdout",
          "text": [
            "0\n",
            "1\n",
            "2\n",
            "3\n",
            "4\n",
            "5\n"
          ]
        }
      ]
    },
    {
      "cell_type": "code",
      "source": [
        "num = int(input('Enter a number: '))\n",
        "i = 4\n",
        "while i <= num:\n",
        "  if i%3 == 0:\n",
        "    print('{}, its the first number which is multiple of 3'.format(i))\n",
        "    break\n",
        "  i += 1\n",
        "else:\n",
        "  print('No multiple of 3 in the range')"
      ],
      "metadata": {
        "colab": {
          "base_uri": "https://localhost:8080/"
        },
        "id": "fi3kkw6VczM9",
        "outputId": "2cfdd5d9-b2a9-46e8-d4ce-c319b562db6a"
      },
      "execution_count": 34,
      "outputs": [
        {
          "output_type": "stream",
          "name": "stdout",
          "text": [
            "Enter a number: 5\n",
            "No multiple of 3 in the range\n"
          ]
        }
      ]
    },
    {
      "cell_type": "code",
      "source": [
        "# break in Python is a loop control statement. It is used to control the sequence of the loop. Suppose you want to terminate a loop and skip to the next code after the loop; \n",
        "# break will help you do that. \n",
        "\n",
        "for i in range(10):\n",
        "  if i == 5:\n",
        "    break\n",
        "  print(i*'a')\n",
        "  \n"
      ],
      "metadata": {
        "colab": {
          "base_uri": "https://localhost:8080/"
        },
        "id": "pjr_w764el0X",
        "outputId": "f96a67e3-3877-49ce-8ec8-78a141668025"
      },
      "execution_count": 46,
      "outputs": [
        {
          "output_type": "stream",
          "name": "stdout",
          "text": [
            "\n",
            "a\n",
            "aa\n",
            "aaa\n",
            "aaaa\n"
          ]
        }
      ]
    },
    {
      "cell_type": "code",
      "source": [
        "i = 1\n",
        "while i < 10:\n",
        "  if i == 6:\n",
        "    break\n",
        "  print('hello good morning! ')\n",
        "  i+=1"
      ],
      "metadata": {
        "colab": {
          "base_uri": "https://localhost:8080/"
        },
        "id": "6Iq1S7PrfpOP",
        "outputId": "fb907b04-179b-4a56-b305-546ba6435cf3"
      },
      "execution_count": 45,
      "outputs": [
        {
          "output_type": "stream",
          "name": "stdout",
          "text": [
            "hello good morning! \n",
            "hello good morning! \n",
            "hello good morning! \n",
            "hello good morning! \n",
            "hello good morning! \n"
          ]
        }
      ]
    },
    {
      "cell_type": "code",
      "source": [
        "# The continue keyword is used to end the current iteration in a for loop (or a while loop), and continues to the next iteration.\n",
        "\n",
        "for i in range(20):\n",
        "  if i%3 == 0:\n",
        "    continue\n",
        "  print(i)"
      ],
      "metadata": {
        "colab": {
          "base_uri": "https://localhost:8080/"
        },
        "id": "Gu8zfqi3gYg0",
        "outputId": "b472e41d-d660-40a9-fa60-78d76de35a0a"
      },
      "execution_count": 44,
      "outputs": [
        {
          "output_type": "stream",
          "name": "stdout",
          "text": [
            "1\n",
            "2\n",
            "4\n",
            "5\n",
            "7\n",
            "8\n",
            "10\n",
            "11\n",
            "13\n",
            "14\n",
            "16\n",
            "17\n",
            "19\n"
          ]
        }
      ]
    },
    {
      "cell_type": "code",
      "source": [
        "i = 1\n",
        "while i<= 10:\n",
        "  if i%5 == 0:\n",
        "    continue\n",
        "  print(i)\n",
        "  i+=1"
      ],
      "metadata": {
        "id": "LkUqpEVtg-ie"
      },
      "execution_count": 52,
      "outputs": []
    },
    {
      "cell_type": "code",
      "source": [
        "for i in range(10):\n",
        "  pass"
      ],
      "metadata": {
        "id": "CjnWfvVTiVJl"
      },
      "execution_count": 52,
      "outputs": []
    },
    {
      "cell_type": "code",
      "source": [
        ""
      ],
      "metadata": {
        "id": "LgKbr1xzjLkm"
      },
      "execution_count": null,
      "outputs": []
    }
  ]
}